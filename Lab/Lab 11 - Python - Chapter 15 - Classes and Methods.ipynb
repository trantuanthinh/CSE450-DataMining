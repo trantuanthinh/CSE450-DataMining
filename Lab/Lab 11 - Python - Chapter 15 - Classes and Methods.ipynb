{
 "cells": [
  {
   "cell_type": "markdown",
   "id": "ae2ee340-7bef-455a-a100-21e64cb95b04",
   "metadata": {},
   "source": [
    "### Exercise 1 (100 points)\n",
    "In Chapter 14, a series of exercises asked you to write a **`Date`** class and several functions that work with **`Date`** objects. Now let’s practice rewriting those functions as methods:\n",
    "\n",
    "1. Write a definition for a **`Date`** class that represents a date—that is, a year, month, and day of the month. (**25 points**)\n",
    "2. Write an **`__init__`** method that takes **`year`**, **`month`**, and **`day`** as parameters and assigns the parameters to attributes. Create an object that represents June 22, 1933. (**25 points**)\n",
    "3. Write a **`__str__`** method that uses a format string to format the attributes and returns the result. If you test it with the **`Date`** you created, the result should be 1933-06-22. (**25 points**)\n",
    "4. Write a method called **`is_after`** that takes two **`Date`** objects and returns **`True`** if the first comes after the second. Create a second object that represents September 17, 1933, and check whether it comes after the first object. (**25 points**)\n",
    "\n",
    "*Hint*: you might find it useful to write a method called **`to_tuple`** that returns a tuple that contains the attributes of a **`Date`** object in year-month-day order."
   ]
  },
  {
   "cell_type": "code",
   "execution_count": null,
   "id": "18ff9b21",
   "metadata": {},
   "outputs": [
    {
     "name": "stdout",
     "output_type": "stream",
     "text": [
      "1933-06-22\n",
      "1933-09-17\n",
      "True\n",
      "(1933, 6, 22)\n"
     ]
    }
   ],
   "source": [
    "class Date:\n",
    "    def __init__(self, year, month, day):\n",
    "        self.year = year\n",
    "        self.month = month\n",
    "        self.day = day\n",
    "\n",
    "    def __str__(self):\n",
    "        return f\"{self.year:04}-{self.month:02}-{self.day:02}\"\n",
    "\n",
    "    def is_after(self, other):\n",
    "        return (self.year, self.month, self.day) > (other.year, other.month, other.day)\n",
    "\n",
    "    def to_tuple(self):\n",
    "        return (self.year, self.month, self.day)\n",
    "\n",
    "\n",
    "date1 = Date(1933, 6, 22)\n",
    "print(str(date1))\n",
    "date2 = Date(1933, 9, 17)\n",
    "print(str(date2))\n",
    "print(date2.is_after(date1))\n",
    "print(date1.to_tuple())"
   ]
  }
 ],
 "metadata": {
  "kernelspec": {
   "display_name": "data-mining-v3.13",
   "language": "python",
   "name": "python3"
  },
  "language_info": {
   "codemirror_mode": {
    "name": "ipython",
    "version": 3
   },
   "file_extension": ".py",
   "mimetype": "text/x-python",
   "name": "python",
   "nbconvert_exporter": "python",
   "pygments_lexer": "ipython3",
   "version": "3.13.2"
  }
 },
 "nbformat": 4,
 "nbformat_minor": 5
}
