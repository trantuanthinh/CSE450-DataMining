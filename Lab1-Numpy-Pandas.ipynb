{
 "cells": [
  {
   "cell_type": "markdown",
   "id": "2889c1b8-e309-4941-bbeb-f67fae5d70c9",
   "metadata": {},
   "source": [
    "https://datamineaz.org/\n",
    "\n",
    "### Assignment 1 (5 points)\n",
    "Write a function **`is_prime(num)`** that takes an integer and returns **`True`** if the number is a prime number, **`False`** otherwise."
   ]
  },
  {
   "cell_type": "code",
   "execution_count": null,
   "id": "3950f7b4",
   "metadata": {},
   "outputs": [],
   "source": [
    "def is_prime(n):\n",
    "    if n < 2:\n",
    "        return False\n",
    "    for i in range(2, int(n**0.5) + 1):\n",
    "        if n % i == 0:\n",
    "            return False\n",
    "    return True\n",
    "\n",
    "print(is_prime(7))\n",
    "print(is_prime(12))"
   ]
  },
  {
   "cell_type": "markdown",
   "id": "3cfc70af-cddc-43a8-b1b1-34446311d25f",
   "metadata": {},
   "source": [
    "### Assignment 2 (5 points)\n",
    "Create a dictionary named **`student_grades`** with keys as student names and values as their grades (A, B, C, D, F).\n",
    "Write a loop to print out each student’s name and grade in the format: “Student [Name] has grade [Grade]\"."
   ]
  },
  {
   "cell_type": "code",
   "execution_count": null,
   "id": "7999c368",
   "metadata": {},
   "outputs": [],
   "source": [
    "student_grades = {\"Alice\": \"A\", \"Bob\": \"C\", \"Carol\": \"B\", \"David\": \"D\", \"Eve\": \"F\"}\n",
    "for key, value in student_grades.items():\n",
    "    print(f\"Student {key} has grade {value}\")"
   ]
  },
  {
   "cell_type": "markdown",
   "id": "b17f230d-a8fb-4d04-9b4d-ea227a58c6fe",
   "metadata": {},
   "source": [
    "### Assignment 3 (10 points)\n",
    "Using list comprehension, generate a list of tuples where each tuple is (number, square of number) for numbers between 1 and 10.\n",
    "Write a function **`calculate_stats(numbers)`** that returns the mean, median, and standard deviation of a list of numbers. Utilize functions from the statistics module."
   ]
  },
  {
   "cell_type": "code",
   "execution_count": null,
   "id": "df383dc2",
   "metadata": {},
   "outputs": [],
   "source": [
    "import statistics\n",
    "\n",
    "def calculate_stats(numbers):\n",
    "    mean = statistics.mean(numbers)\n",
    "    median = statistics.median(numbers)\n",
    "    std_dev = statistics.stdev(numbers)\n",
    "    return (mean, median, std_dev)\n",
    "\n",
    "\n",
    "numbers = [(i, i**2) for i in range(1, 11)]\n",
    "mean, median, std_dev = calculate_stats([i[1] for i in numbers])\n",
    "print(f\"Mean: {mean}, Median: {median}, Standard Deviation: {std_dev}\")\n"
   ]
  },
  {
   "cell_type": "markdown",
   "id": "d16b86e7-ec34-4e6a-a304-ea9ea43d09d9",
   "metadata": {},
   "source": [
    "### Assignment 4 (10 points)\n",
    "Create a NumPy array **`A`** of shape (10,10) with values ranging from 0 to 99. Calculate the determinant of matrix **`A`** (use **`numpy.linalg.det`**). Print the result.\n"
   ]
  },
  {
   "cell_type": "code",
   "execution_count": null,
   "id": "910a8079",
   "metadata": {},
   "outputs": [],
   "source": [
    "import numpy as np\n",
    "\n",
    "A = np.arange(100).reshape(10, 10)\n",
    "determinant = np.linalg.det(A)\n",
    "print(\"Determinant of matrix A:\", determinant)"
   ]
  },
  {
   "cell_type": "markdown",
   "id": "5470ed71-61f6-4375-a173-f06e9c338f91",
   "metadata": {},
   "source": [
    "### Assignment 5 (10 points)\n",
    "Given a 1D Numpy array of size 10, normalize it (i.e., scale the values to range between 0 and 1)."
   ]
  },
  {
   "cell_type": "markdown",
   "id": "5955d332-2166-4faa-a664-f73975460c81",
   "metadata": {},
   "source": [
    "### Assignment 6 (10 points)\n",
    "Create a 2D NumPy array with 2 rows by 3 columns. Use a for loop to iterate through each element of the third column and print their square roots."
   ]
  },
  {
   "cell_type": "markdown",
   "id": "5b16972f-3ef9-471d-801d-643e4de98801",
   "metadata": {},
   "source": [
    "### Assignment 7 (10 points)\n",
    "Given a 2D NumPy array, calculate the mean, median, and variance along both rows and columns. Identify the row with the maximum variance and print it out."
   ]
  },
  {
   "cell_type": "markdown",
   "id": "4ed97ec6-b7b3-4061-b21d-65c5c699be35",
   "metadata": {},
   "source": [
    "### Assignment 8 (10 points)\n",
    "Create a Pandas Series with the labels as the first 10 letters of the alphabet and the values as random integers from 1 to 100. Convert this Series into a DataFrame with the column name ‘**`Random_Numbers`**’."
   ]
  },
  {
   "cell_type": "markdown",
   "id": "57ee7792-91b8-4724-a3f7-8ccd5afba0e4",
   "metadata": {},
   "source": [
    "### Assignment 9 (10 points)\n",
    "Load a CSV file named **`products-100.cvs`** into a Pandas DataFrame. Print out the data types of columns and the first 10 rows of the DataFrame."
   ]
  },
  {
   "cell_type": "markdown",
   "id": "2f9f5e7f-017f-4a4a-a8c1-d8dca52d8d74",
   "metadata": {},
   "source": [
    "### Assignment 10 (10 points)\n",
    "(20 points)\n",
    "Load a CSV file named **`products-100.cvs`** into a Pandas DataFrame. Replace all instances of a missing ‘**`Price`**’ with the median price.\n",
    "Add a new column ‘**`price_normalized`**’ that contains the ‘**`price`**’ column normalized to have a mean of 0 and a standard deviation of 1."
   ]
  },
  {
   "cell_type": "markdown",
   "id": "2e94e9eb-2842-4792-85ee-03a129c823d0",
   "metadata": {},
   "source": [
    "### Assignment 11 (10 points)\n",
    "Load a CSV file named **`products-100.cvs`** into a Pandas DataFrame. Group the data by **`Category`** and calculate the average price for each group. Create a new DataFrame that contains only the categories and their corresponding average prices. Sort this DataFrame by the average prices in descending order."
   ]
  },
  {
   "cell_type": "code",
   "execution_count": null,
   "id": "68101860-0665-431c-9773-15ab9a308779",
   "metadata": {},
   "outputs": [],
   "source": []
  }
 ],
 "metadata": {
  "kernelspec": {
   "display_name": "Python 3 (ipykernel)",
   "language": "python",
   "name": "python3"
  },
  "language_info": {
   "codemirror_mode": {
    "name": "ipython",
    "version": 3
   },
   "file_extension": ".py",
   "mimetype": "text/x-python",
   "name": "python",
   "nbconvert_exporter": "python",
   "pygments_lexer": "ipython3",
   "version": "3.12.9"
  }
 },
 "nbformat": 4,
 "nbformat_minor": 5
}
