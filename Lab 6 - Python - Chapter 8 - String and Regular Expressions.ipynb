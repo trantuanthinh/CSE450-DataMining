{
 "cells": [
  {
   "cell_type": "markdown",
   "id": "7356bd68-cc27-44fe-9671-95aa3b00c012",
   "metadata": {},
   "source": [
    "### Exercise 1 (25 points)\n",
    "See if you can write a function that does the same thing as the shell command **`head`**. It should take 3 arguments: the name of a file to read, the number of lines to read, and the name of the file to write the lines into. If the third parameter is **`None`**, it should display the lines rather than write them to a file."
   ]
  },
  {
   "cell_type": "markdown",
   "id": "7e352720-603b-4623-bdf8-2b2445d68e14",
   "metadata": {},
   "source": [
    "### Exercise 2(25 points)\n",
    "“Wordle” is an online word game where the objective is to guess a five-letter word in six or fewer attempts. Each attempt has to be recognized as a word, not including proper nouns. After each attempt, you get information about which of the letters you\n",
    "guessed appear in the target word, and which ones are in the correct position.\n",
    "\n",
    "For example, suppose the target word is MOWER and you guess TRIED. You would learn that E is in the word and in the correct position, R is in the word but not in the correct position, and T, I, and D are not in the word.\n",
    "\n",
    "As a different example, suppose you have guessed the words SPADE and CLERK, and you’ve learned that E is in the word, but not in either of those positions, and none of the other letters appear in the word.\n",
    "\n",
    "Of the words in the word list, how many could be the target word? Write a function called **`check_word`** that takes a five-letter word and checks whether it could be the target word.\n",
    "\n",
    "You can use any of the functions from the previous chapter, like **`uses_any`**."
   ]
  },
  {
   "cell_type": "markdown",
   "id": "23359955-e81a-494f-b85d-46f9ae0bfceb",
   "metadata": {},
   "source": [
    "### Exercise 3 (25 points)\n",
    "Continuing the previous exercise, suppose you guess the word TOTEM and learn that the E is still not in the right place, but the M is. How many words are left?"
   ]
  },
  {
   "cell_type": "markdown",
   "id": "e6452149-5d5f-4bb1-b9e2-a9ff559cb1c3",
   "metadata": {},
   "source": [
    "### Exercise 4 (25 points)\n",
    "The *Count of Monte Cristo* is a novel by Alexandre Dumas that is considered a classic. Nevertheless, in the introduction of an English translation of the book, the writer Umberto Eco confesses that he found the book to be “one of the most badly written novels of all time.”\n",
    "\n",
    "In particular, he says it is “shameless in its repetition of the same adjective,” and mentions in particular the number of times “its characters either shudder or turn pale.”\n",
    "\n",
    "To see whether his objection is valid, let’s count the number of times the word **`pale`** appears in any form, including **`pale`**, **`pales`**, **`paled`**, and **`paleness`**, as well as the related word **`pallor`**. Use a single regular expression that matches all of these words and no others."
   ]
  },
  {
   "cell_type": "code",
   "execution_count": null,
   "id": "7d37a274-9913-44ec-a7cf-b9ae11562e25",
   "metadata": {},
   "outputs": [],
   "source": []
  }
 ],
 "metadata": {
  "kernelspec": {
   "display_name": "Python 3 (ipykernel)",
   "language": "python",
   "name": "python3"
  },
  "language_info": {
   "codemirror_mode": {
    "name": "ipython",
    "version": 3
   },
   "file_extension": ".py",
   "mimetype": "text/x-python",
   "name": "python",
   "nbconvert_exporter": "python",
   "pygments_lexer": "ipython3",
   "version": "3.12.4"
  }
 },
 "nbformat": 4,
 "nbformat_minor": 5
}
