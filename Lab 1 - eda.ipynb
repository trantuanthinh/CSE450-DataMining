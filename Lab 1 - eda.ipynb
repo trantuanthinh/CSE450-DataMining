{
 "cells": [
  {
   "cell_type": "markdown",
   "id": "33589aee-39cc-4cbb-9091-fb82d0f96642",
   "metadata": {},
   "source": [
    "# Exploratory Data Analysis and Data Preprocessing #\n",
    "You will be expected to read in a dataset from the https://github.com/rfordatascience/tidytuesday/tree/main/data/2024 datasets for the purpose of exploratory data analysis and preprocessing."
   ]
  },
  {
   "cell_type": "markdown",
   "id": "82b78b7b-afea-4330-a82f-60eb81d53f48",
   "metadata": {},
   "source": [
    "## Part 1: Exploratory Data Analysis ##"
   ]
  },
  {
   "cell_type": "markdown",
   "id": "48360ef2-1a44-4bd9-9580-f051fe10be28",
   "metadata": {},
   "source": [
    "### Assignment 1: Data Overview (20 Points) ###\n",
    "- Load the dataset into a Pandas DataFrame and display the first few rows.\n",
    "- Provide a basic description of the dataset, including its shape, columns, and data types.\n",
    "\n",
    "***Hint***\n",
    "- Use functions like **.head()**, **.shape**, **.columns**, and **.dtypes** to get an overview of your **DataFrame**.\n",
    "- Remember that **.info()** can be used to get a concise summary of the **DataFrame** including the non-null count and type of each column."
   ]
  },
  {
   "cell_type": "code",
   "execution_count": null,
   "id": "923868a9",
   "metadata": {},
   "outputs": [],
   "source": [
    "import pandas as pd\n",
    "\n",
    "\n",
    "url = \"https://raw.githubusercontent.com/rfordatascience/tidytuesday/main/data/2024/2024-02-13/historical_spending.csv\"\n",
    "df = pd.read_csv(url)\n",
    "\n",
    "# Assignment 1\n",
    "print(df.head())\n",
    "print(df.shape)  # (rows, columns)\n",
    "print(df.columns)\n",
    "print(df.dtypes)\n",
    "print(df.info())"
   ]
  },
  {
   "cell_type": "markdown",
   "id": "03de78d7-c9d2-4250-a858-109ba5c2b66a",
   "metadata": {},
   "source": [
    "### Assignment 2: Univariate Analysis (10 Points) ###\n",
    "- For numerical features, calculate descriptive statistics and create histograms.\n",
    "- For categorical features, count unique values and create bar plots.\n",
    "  \n",
    "***Hint***\n",
    "- Use **.describe()** for a quick statistical summary of the numerical features.\n",
    "- Utilize **matplotlib** or **seaborn** libraries to create histograms (**hist()** or **sns.histplot()**).\n",
    "- For categorical data, **value_counts()** can help in understanding the distribution of classes, and you can plot the results using **bar()** or **sns.countplot()**."
   ]
  },
  {
   "cell_type": "code",
   "execution_count": null,
   "id": "7f46e0ae",
   "metadata": {},
   "outputs": [],
   "source": []
  },
  {
   "cell_type": "markdown",
   "id": "de5834ed-2ede-461b-8b3d-6383779b3edc",
   "metadata": {},
   "source": [
    "### Assignment 3: Bivariate Analysis (10 Points) ###\n",
    "- Choose three pairs of numerical variables and create scatter plots to explore their relationships.\n",
    "- Create boxplots for one numerical variable grouped by a categorical variable.\n",
    "\n",
    "***Hint*** \n",
    "- When creating scatter plots with **plt.scatter()** or **sns.scatterplot()**, it might be helpful to color points by a third categorical variable using the hue parameter in **Seaborn**.\n",
    "- Use **sns.boxplot()** to create boxplots. Consider using the hue parameter if you have sub-categories within your categorical variable."
   ]
  },
  {
   "cell_type": "markdown",
   "id": "8ecb9eac-63f8-4513-8c49-150c9fa6d10e",
   "metadata": {},
   "source": [
    "### Assignment 4: Missing Data and Outliers (10 Points) ###\n",
    "- Identify any missing values in the dataset.\n",
    "- Detect outliers in the numerical features using an appropriate method (e.g., Z-score, IQR).\n",
    "\n",
    "***Hint***\n",
    "- The **.isnull()** method chained with **.sum()** can help identify missing values.\n",
    "- Consider using the **scipy.stats** module for Z-score computation or the IQR which is the range between the first and third quartile of your data distribution for outlier detection."
   ]
  },
  {
   "cell_type": "markdown",
   "id": "e4072de0-7273-4fa3-9a4d-4e902328c578",
   "metadata": {},
   "source": [
    "## Part 2: Data Preprocessing ##"
   ]
  },
  {
   "cell_type": "markdown",
   "id": "e93aee20-703b-48c3-bece-404b41c88a99",
   "metadata": {},
   "source": [
    "### Assignment 5: Handling Missing Values (20 Points) ###\n",
    "- Choose appropriate methods to handle the missing data (e.g., imputation, removal).\n",
    " \n",
    "***Hint***\n",
    "- Imputation methods could involve using **.fillna()** with measures like mean (**data.mean()**) for numerical columns and mode (**data.mode().iloc[0]**) for categorical columns.\n",
    "- For removal, **.dropna()** is straightforward but consider the impact on your dataset size."
   ]
  },
  {
   "cell_type": "markdown",
   "id": "ce2eac31-4a73-4804-aab3-a01ad7cedf8a",
   "metadata": {},
   "source": [
    "### Assignment 6: Dealing with Outliers (10 Points) ###\n",
    "- Treat or remove the outliers identified earlier based on your chosen methodology.\n",
    "\n",
    "***Hint*** \n",
    "- For outlier removal, you may use boolean indexing based on Z-scores or IQR to filter your data.\n",
    "- If you don’t want to remove outliers, consider transforming them using methods such as log transformation."
   ]
  },
  {
   "cell_type": "markdown",
   "id": "a16a0744-9571-4cce-a3bd-3db073417301",
   "metadata": {},
   "source": [
    "### Assignment 7: Feature Engineering (10 Points) ###\n",
    "- Create at least one new feature that could be useful for a data mining task.\n",
    "\n",
    "***Hint*** \n",
    "- Think about the domain knowledge related to your dataset that could suggest new features. For instance, if you have date-time information, extracting the day of the week could be useful.\n",
    "- Also, combining features, if relevant, to create ratios or differences can often reveal useful insights."
   ]
  },
  {
   "cell_type": "markdown",
   "id": "ba2153d2-b524-48a0-bd5a-2d34d30c57bb",
   "metadata": {},
   "source": [
    "### Assignment 8: Data Transformation (10 Points) ###\n",
    "- Standardize or normalize numerical features.\n",
    "- Perform any additional transformations you deem necessary (e.g., encoding categorical variables, binning, etc.).\n",
    "\n",
    "***Hint*** \n",
    "- For scaling, **StandardScaler** or **MinMaxScaler** from **sklearn.preprocessing** can be applied to numerical features.\n",
    "- For normalization, **np.log1p()** (log(1+x)) can help in managing skewed data.\n",
    "- Use **pd.get_dummies()** or **LabelEncoder/OneHotEncoder** from **sklearn.preprocessing** for encoding categorical variables."
   ]
  },
  {
   "cell_type": "code",
   "execution_count": null,
   "id": "8ee97471-c268-44d4-a6cd-6080e17eeefd",
   "metadata": {},
   "outputs": [],
   "source": []
  }
 ],
 "metadata": {
  "kernelspec": {
   "display_name": "Python 3 (ipykernel)",
   "language": "python",
   "name": "python3"
  },
  "language_info": {
   "codemirror_mode": {
    "name": "ipython",
    "version": 3
   },
   "file_extension": ".py",
   "mimetype": "text/x-python",
   "name": "python",
   "nbconvert_exporter": "python",
   "pygments_lexer": "ipython3",
   "version": "3.12.9"
  }
 },
 "nbformat": 4,
 "nbformat_minor": 5
}
